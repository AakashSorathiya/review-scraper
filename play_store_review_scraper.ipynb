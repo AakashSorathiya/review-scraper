{
 "cells": [
  {
   "cell_type": "code",
   "execution_count": 1,
   "metadata": {},
   "outputs": [],
   "source": [
    "import json\n",
    "from typing import Union, Optional\n",
    "from urllib.error import HTTPError\n",
    "from urllib.request import Request, urlopen\n",
    "from time import sleep\n",
    "from datetime import datetime\n",
    "import re\n",
    "import pandas as pd"
   ]
  },
  {
   "cell_type": "code",
   "execution_count": 2,
   "metadata": {},
   "outputs": [],
   "source": [
    "PLAY_STORE_BASE_URL = \"https://play.google.com\"\n",
    "REVIEWS = re.compile(\"\\\\)]}'\\n\\n([\\\\s\\\\S]+)\")"
   ]
  },
  {
   "cell_type": "code",
   "execution_count": 19,
   "metadata": {},
   "outputs": [],
   "source": [
    "class Reviews:\n",
    "    URL_FORMAT = (\n",
    "        \"{}/_/PlayStoreUi/data/batchexecute?rpcids=oCPfdb&source-path=/store/apps/details&f.sid=1030595262832404848&bl=boq_playuiserver_20231010.04_p1&hl={{lang}}&authuser=0&soc-app=121&soc-platform=1&soc-device=1&_reqid=745241&rt=c\".format(\n",
    "            PLAY_STORE_BASE_URL\n",
    "        )\n",
    "    )\n",
    "\n",
    "    def build(self, lang: str, country: str) -> str:\n",
    "        return self.URL_FORMAT.format(lang=lang, country=country)\n",
    "\n",
    "    # f.req=[[[\"UsvDTd\",\"[null,null,[2,{sort},[{count},null,null],null,[]],[\\\"{app_id}\\\",7]]\",null,\"generic\"]]]\n",
    "    PAYLOAD_FORMAT_FOR_FIRST_PAGE = \"f.req=%5B%5B%5B%22UsvDTd%22%2C%22%5Bnull%2Cnull%2C%5B2%2C{sort}%2C%5B{count}%2Cnull%2Cnull%5D%2Cnull%2C%5B%5D%5D%2C%5B%5C%22{app_id}%5C%22%2C7%5D%5D%22%2Cnull%2C%22generic%22%5D%5D%5D\"\n",
    "\n",
    "    # f.req=[[[\"UsvDTd\",\"[null,null,[2,{sort},[{count},null,\\\"{pagination_token}\\\"],null,[]],[\\\"{app_id}\\\",7]]\",null,\"generic\"]]]\n",
    "    PAYLOAD_FORMAT_FOR_PAGINATED_PAGE = \"f.req=%5B%5B%5B%22UsvDTd%22%2C%22%5Bnull%2Cnull%2C%5B2%2C{sort}%2C%5B{count}%2Cnull%2C%5C%22{pagination_token}%5C%22%5D%2Cnull%2C%5B%5D%5D%2C%5B%5C%22{app_id}%5C%22%2C7%5D%5D%22%2Cnull%2C%22generic%22%5D%5D%5D\"\n",
    "\n",
    "    def build_body(\n",
    "        self,\n",
    "        app_id: str,\n",
    "        sort: int,\n",
    "        count: int,\n",
    "        filter_score_with: int,\n",
    "        pagination_token: str,\n",
    "    ) -> bytes:\n",
    "        if pagination_token is not None:\n",
    "            result = self.PAYLOAD_FORMAT_FOR_PAGINATED_PAGE.format(\n",
    "                app_id=app_id,\n",
    "                sort=sort,\n",
    "                count=count,\n",
    "                score=filter_score_with,\n",
    "                pagination_token=pagination_token,\n",
    "            )\n",
    "        else:\n",
    "            result = self.PAYLOAD_FORMAT_FOR_FIRST_PAGE.format(\n",
    "                app_id=app_id, sort=sort, score=filter_score_with, count=count\n",
    "            )\n",
    "\n",
    "        return result.encode()\n",
    "\n",
    "    def build_review(self, *args):\n",
    "        raw_review=args[0]\n",
    "        review={}\n",
    "        review[\"content\"] = raw_review[4]\n",
    "        review[\"rating\"] = raw_review[2]\n",
    "        review[\"likes\"] = raw_review[6]\n",
    "        review[\"date\"] = str(datetime.fromtimestamp(raw_review[5][0]))\n",
    "        \n",
    "        return review"
   ]
  },
  {
   "cell_type": "code",
   "execution_count": 38,
   "metadata": {},
   "outputs": [],
   "source": [
    "def post(url: str, data: Union[str, bytes], headers: dict) -> str:\n",
    "    request = Request(url, data=data, headers=headers)\n",
    "    try:\n",
    "        resp = urlopen(request)\n",
    "    except HTTPError as e:\n",
    "        raise Exception(\n",
    "            f\"Error {e.reason}, Status code: {e.code}.\"\n",
    "        )\n",
    "\n",
    "    return resp.read().decode(\"UTF-8\")"
   ]
  },
  {
   "cell_type": "code",
   "execution_count": 5,
   "metadata": {},
   "outputs": [],
   "source": [
    "def fetch_review_items(\n",
    "    url: str,\n",
    "    app_id: str,\n",
    "    sort: int,\n",
    "    count: int,\n",
    "    filter_score_with: Optional[int],\n",
    "    pagination_token: Optional[str],\n",
    "):\n",
    "    dom = post(\n",
    "        url,\n",
    "        Reviews.build_body(\n",
    "            app_id,\n",
    "            sort,\n",
    "            count,\n",
    "            \"null\" if filter_score_with is None else filter_score_with,\n",
    "            pagination_token,\n",
    "        ),\n",
    "        {\"content-type\": \"application/x-www-form-urlencoded\"},\n",
    "    )\n",
    "\n",
    "    # MOD error handling\n",
    "    if \"error.PlayDataError\" in dom:\n",
    "        return fetch_review_items(url, app_id, sort, count, filter_score_with, pagination_token)\n",
    "    # ENDMOD\n",
    "    \n",
    "    # print(dom)\n",
    "    result=[]\n",
    "    result+=REVIEWS.findall(dom)[0].splitlines()\n",
    "    # print(result)\n",
    "    match = json.loads(result[1])\n",
    "\n",
    "    return json.loads(match[0][2])[0], json.loads(match[0][2])[-1][-1]"
   ]
  },
  {
   "cell_type": "code",
   "execution_count": 20,
   "metadata": {},
   "outputs": [],
   "source": [
    "Reviews = Reviews()\n",
    "url = Reviews.build(lang=\"en\", country=\"us\")"
   ]
  },
  {
   "cell_type": "code",
   "execution_count": 41,
   "metadata": {},
   "outputs": [],
   "source": [
    "app_id = 'com.lyft.android.driver'\n",
    "all_reviews=[]\n",
    "p_token=None"
   ]
  },
  {
   "cell_type": "code",
   "execution_count": null,
   "metadata": {},
   "outputs": [],
   "source": [
    "while True:\n",
    "    result=[]\n",
    "    \n",
    "    try:\n",
    "        review_items, token = fetch_review_items(\n",
    "            url, app_id, 2, 1000, None, p_token\n",
    "        )\n",
    "\n",
    "        for review_i in review_items:\n",
    "            result.append(Reviews.build_review(review_i))\n",
    "\n",
    "    except (TypeError, IndexError):\n",
    "        print(\"error\", p_token)\n",
    "        token=None\n",
    "\n",
    "    all_reviews+=result\n",
    "    print(\"fetched 1000\")\n",
    "    \n",
    "    if token is None:\n",
    "        break\n",
    "    else:\n",
    "        p_token=token"
   ]
  },
  {
   "cell_type": "code",
   "execution_count": 43,
   "metadata": {},
   "outputs": [
    {
     "data": {
      "text/plain": [
       "38167"
      ]
     },
     "execution_count": 43,
     "metadata": {},
     "output_type": "execute_result"
    }
   ],
   "source": [
    "len(all_reviews)"
   ]
  },
  {
   "cell_type": "code",
   "execution_count": 44,
   "metadata": {},
   "outputs": [],
   "source": [
    "df_reviews = pd.DataFrame(all_reviews)\n",
    "df_reviews.to_csv(\"../datafiles/lyft_driver_reviews_google.csv\")"
   ]
  }
 ],
 "metadata": {
  "kernelspec": {
   "display_name": "Python 3",
   "language": "python",
   "name": "python3"
  },
  "language_info": {
   "codemirror_mode": {
    "name": "ipython",
    "version": 3
   },
   "file_extension": ".py",
   "mimetype": "text/x-python",
   "name": "python",
   "nbconvert_exporter": "python",
   "pygments_lexer": "ipython3",
   "version": "3.12.3"
  }
 },
 "nbformat": 4,
 "nbformat_minor": 2
}
